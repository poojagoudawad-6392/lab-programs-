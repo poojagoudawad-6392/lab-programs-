{
 "cells": [
  {
   "cell_type": "code",
   "execution_count": 4,
   "id": "1dbb5aad",
   "metadata": {},
   "outputs": [
    {
     "name": "stdout",
     "output_type": "stream",
     "text": [
      "Enter the name: pooja\n",
      "Enter the USN: 2JI22CS060\n",
      "Enter marks for subject 1: 85\n",
      "Enter marks for subject 2: 96\n",
      "Enter marks for subject 3: 84\n",
      "Score Card:\n",
      "Name: pooja\n",
      "USN: 2JI22CS060\n",
      "Marks in each subject: [85.0, 96.0, 84.0]\n",
      "Total Marks: 265.0\n",
      "Percentage: 88.33333333333333 %\n"
     ]
    }
   ],
   "source": [
    "class Student: \n",
    "    def __init__(self, name = \"\", usn = \"\", marks = []): \n",
    "        self.name = name \n",
    "        self.usn = usn \n",
    "        self.marks = list() \n",
    "    def getMarks(self): \n",
    "         for i in range(3): \n",
    "            (self.marks).append(float(input(f\"Enter marks for subject {i+1}: \"))) \n",
    "    def getdetails(self): \n",
    "        self.name = input(\"Enter the name: \") \n",
    "        self.usn = input(\"Enter the USN: \") \n",
    "    def display(self): \n",
    "        print(\"Score Card:\") \n",
    "        print(\"Name:\", self.name) \n",
    "        print(\"USN:\", self.usn) \n",
    "        print(\"Marks in each subject:\", self.marks) \n",
    "        total = 0 \n",
    "        for x in self.marks: \n",
    "             total += x \n",
    "        print(\"Total Marks:\", total) \n",
    "        print(\"Percentage:\", total/3,'%') \n",
    "  \n",
    "student1 = Student() \n",
    "student1.getdetails() \n",
    "student1.getMarks() \n",
    "student1.display()"
   ]
  },
  {
   "cell_type": "code",
   "execution_count": null,
   "id": "95914d54",
   "metadata": {},
   "outputs": [],
   "source": []
  }
 ],
 "metadata": {
  "kernelspec": {
   "display_name": "Python 3 (ipykernel)",
   "language": "python",
   "name": "python3"
  },
  "language_info": {
   "codemirror_mode": {
    "name": "ipython",
    "version": 3
   },
   "file_extension": ".py",
   "mimetype": "text/x-python",
   "name": "python",
   "nbconvert_exporter": "python",
   "pygments_lexer": "ipython3",
   "version": "3.10.9"
  }
 },
 "nbformat": 4,
 "nbformat_minor": 5
}
