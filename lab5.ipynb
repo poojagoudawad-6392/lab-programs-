{
 "cells": [
  {
   "cell_type": "code",
   "execution_count": 2,
   "id": "e76da48a",
   "metadata": {},
   "outputs": [
    {
     "name": "stdout",
     "output_type": "stream",
     "text": [
      "[('python', 1), ('is', 1), ('one', 1), ('of', 1), ('the', 1), ('top', 1), ('growing', 1), ('language', 1)]\n"
     ]
    }
   ],
   "source": [
    "testFile = open('C:\\\\Users\\\\pooja\\\\OneDrive\\\\Desktop\\\\text.txt', 'r')\n",
    "testContent = testFile.read()\n",
    "\n",
    "word_list = testContent.split()\n",
    "char_dict = {} # Empty dictionary\n",
    "for char in word_list:\n",
    "    if char in char_dict:\n",
    "        char_dict[char] = char_dict[char] + 1\n",
    "    else:\n",
    "        char_dict[char] = 1\n",
    "\n",
    "\n",
    "# print(char_dict)\n",
    "\n",
    "sorted_dict = sorted(char_dict.items(), key = lambda item: item[1], reverse = True)\n",
    "\n",
    "first10pairs = list(sorted_dict)[:10]\n",
    "print(first10pairs)"
   ]
  },
  {
   "cell_type": "code",
   "execution_count": null,
   "id": "7a68aaf9",
   "metadata": {},
   "outputs": [],
   "source": []
  }
 ],
 "metadata": {
  "kernelspec": {
   "display_name": "Python 3 (ipykernel)",
   "language": "python",
   "name": "python3"
  },
  "language_info": {
   "codemirror_mode": {
    "name": "ipython",
    "version": 3
   },
   "file_extension": ".py",
   "mimetype": "text/x-python",
   "name": "python",
   "nbconvert_exporter": "python",
   "pygments_lexer": "ipython3",
   "version": "3.10.9"
  }
 },
 "nbformat": 4,
 "nbformat_minor": 5
}
