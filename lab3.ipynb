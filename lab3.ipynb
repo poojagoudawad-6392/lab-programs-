{
 "cells": [
  {
   "cell_type": "code",
   "execution_count": 1,
   "id": "870f667f",
   "metadata": {},
   "outputs": [
    {
     "name": "stdout",
     "output_type": "stream",
     "text": [
      "Enter the number students: 5\n",
      "Enter marks of each student in python: 86\n",
      "Enter marks of each student in python: 96\n",
      "Enter marks of each student in python: 84\n",
      "Enter marks of each student in python: 35\n",
      "Enter marks of each student in python: 75\n",
      "List containing marks of student:  [86, 96, 84, 35, 75]\n",
      "--------------------------------------------------\n",
      "Sum of all the elements in the list:  376\n",
      "Mean:  75.2\n",
      "Variance:  448.55999999999995\n",
      "Standard Deviation:  21.179235113667346\n"
     ]
    }
   ],
   "source": [
    "# Read N numbers from the console and create a list.\n",
    "# Develop a program to print mean, variance and standard deviation\n",
    "n = int(input(\"Enter the number students: \"))\n",
    "list1 = []\n",
    "for i in range(n):\n",
    "    marks = int(input(\"Enter marks of each student in python: \"))\n",
    "    list1.append(marks)\n",
    "print(\"List containing marks of student: \", list1)\n",
    "\n",
    "print(\"-\"*50)\n",
    "\n",
    "\n",
    "# Finding Mean\n",
    "sum = 0 # Initialize\n",
    "for i in list1:\n",
    "    sum += i\n",
    "print(\"Sum of all the elements in the list: \", sum)\n",
    "\n",
    "x_bar = sum/len(list1)\n",
    "print(\"Mean: \", x_bar)\n",
    "\n",
    "\n",
    "# Finding Variance\n",
    "var = 0 # Initialize\n",
    "for i in list1:\n",
    "    var = var + ((i - x_bar)**2)/len(list1)\n",
    "\n",
    "print(\"Variance: \", var)\n",
    "\n",
    "\n",
    "# Finding Standard Deviation\n",
    "std_dev = var**0.5\n",
    "\n",
    "print(\"Standard Deviation: \", std_dev)"
   ]
  },
  {
   "cell_type": "code",
   "execution_count": null,
   "id": "5969f36d",
   "metadata": {},
   "outputs": [],
   "source": []
  }
 ],
 "metadata": {
  "kernelspec": {
   "display_name": "Python 3 (ipykernel)",
   "language": "python",
   "name": "python3"
  },
  "language_info": {
   "codemirror_mode": {
    "name": "ipython",
    "version": 3
   },
   "file_extension": ".py",
   "mimetype": "text/x-python",
   "name": "python",
   "nbconvert_exporter": "python",
   "pygments_lexer": "ipython3",
   "version": "3.10.9"
  }
 },
 "nbformat": 4,
 "nbformat_minor": 5
}
