{
 "cells": [
  {
   "cell_type": "code",
   "execution_count": 1,
   "id": "56f2a2d3",
   "metadata": {},
   "outputs": [],
   "source": [
    "def DivExp(a,b):\n",
    "    try:\n",
    "        assert a>0, \"Number 'a' is Negative\"\n",
    "        if b==0:\n",
    "            raise ZeroDivisionError(\"Zero Division Error\")\n",
    "        c = a/b\n",
    "        return c\n",
    "    except ZeroDivisionError as e:\n",
    "        print(e)\n",
    "    except AssertionError as e:\n",
    "        print(\"Assertion failure: \" + str(e))"
   ]
  },
  {
   "cell_type": "code",
   "execution_count": 3,
   "id": "5095e019",
   "metadata": {},
   "outputs": [
    {
     "name": "stdout",
     "output_type": "stream",
     "text": [
      "Assertion failure: Number 'a' is Negative\n"
     ]
    }
   ],
   "source": [
    "DivExp(-25,5)"
   ]
  },
  {
   "cell_type": "code",
   "execution_count": 4,
   "id": "3d18aa60",
   "metadata": {},
   "outputs": [
    {
     "name": "stdout",
     "output_type": "stream",
     "text": [
      "Zero Division Error\n"
     ]
    }
   ],
   "source": [
    "DivExp(25,0)"
   ]
  },
  {
   "cell_type": "code",
   "execution_count": 5,
   "id": "f51514cf",
   "metadata": {},
   "outputs": [
    {
     "data": {
      "text/plain": [
       "5.0"
      ]
     },
     "execution_count": 5,
     "metadata": {},
     "output_type": "execute_result"
    }
   ],
   "source": [
    "DivExp(25,5)"
   ]
  },
  {
   "cell_type": "code",
   "execution_count": null,
   "id": "f7e4cbb5",
   "metadata": {},
   "outputs": [],
   "source": []
  }
 ],
 "metadata": {
  "kernelspec": {
   "display_name": "Python 3 (ipykernel)",
   "language": "python",
   "name": "python3"
  },
  "language_info": {
   "codemirror_mode": {
    "name": "ipython",
    "version": 3
   },
   "file_extension": ".py",
   "mimetype": "text/x-python",
   "name": "python",
   "nbconvert_exporter": "python",
   "pygments_lexer": "ipython3",
   "version": "3.10.9"
  }
 },
 "nbformat": 4,
 "nbformat_minor": 5
}
