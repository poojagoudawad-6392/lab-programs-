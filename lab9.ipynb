{
 "cells": [
  {
   "cell_type": "code",
   "execution_count": 1,
   "id": "77fadd35",
   "metadata": {},
   "outputs": [
    {
     "name": "stdout",
     "output_type": "stream",
     "text": [
      "-2 + -5i + 12 + 8i = 10 + 3i\n",
      "\n",
      " <class '__main__.Complex'> 1966457825088 \n",
      "\n",
      "How many complex numbers you want to add:3\n",
      "Enter the real part of the complex number: 1\n",
      "Enter the imaginary part of the complex number:2\n",
      "\n",
      "Enter the real part of the complex number: 3\n",
      "Enter the imaginary part of the complex number:4\n",
      "\n",
      "Enter the real part of the complex number: 5\n",
      "Enter the imaginary part of the complex number:6\n",
      "\n",
      "\n",
      "The sum of the given Complex numbers is: 9.0 + 12.0i\n"
     ]
    }
   ],
   "source": [
    "class Complex:\n",
    "    def __init__(self, real=0, imag=0):\n",
    "        self.real = real\n",
    "        self.imag = imag\n",
    " \n",
    "    def __add__(self, other):\n",
    "        real_part = self.real + other.real\n",
    "        imag_part = self.imag + other.imag\n",
    "        return Complex(real_part, imag_part)\n",
    " \n",
    "    def __str__(self):\n",
    "        return f\"{self.real} + {self.imag}i\"\n",
    "# Create two Complex objects\n",
    "ca = Complex(-2, -5)\n",
    "cb = Complex(12, 8)\n",
    "# Display the calculation and result\n",
    "print(ca, '+', cb, '=', (ca + cb))\n",
    "# Display the type and memory address of ca\n",
    "print('\\n',type(ca), id(ca), '\\n')\n",
    "# Create an empty list to store Complex numbers\n",
    "complex_list = []\n",
    "# Read the number of Complex numbers to add\n",
    "n = int(input(\"How many complex numbers you want to add:\"))\n",
    "# Loop to input and store the Complex numbers\n",
    "for i in range(n):\n",
    "    r = float(input(\"Enter the real part of the complex number: \"))\n",
    "    im = float(input(\"Enter the imaginary part of the complex number:\"))\n",
    "    print()\n",
    "    complex_list.append(Complex(r, im))\n",
    "# Initialize a Complex object to hold the sum\n",
    "sum_series = Complex()\n",
    "# Loop to calculate the sum of Complex numbers in the list\n",
    "for j in complex_list:\n",
    "    sum_series += j\n",
    " \n",
    "# Display the sum of the Complex numbers\n",
    "print(\"\\nThe sum of the given Complex numbers is:\", sum_series)"
   ]
  },
  {
   "cell_type": "code",
   "execution_count": null,
   "id": "2bd375ca",
   "metadata": {},
   "outputs": [],
   "source": []
  }
 ],
 "metadata": {
  "kernelspec": {
   "display_name": "Python 3 (ipykernel)",
   "language": "python",
   "name": "python3"
  },
  "language_info": {
   "codemirror_mode": {
    "name": "ipython",
    "version": 3
   },
   "file_extension": ".py",
   "mimetype": "text/x-python",
   "name": "python",
   "nbconvert_exporter": "python",
   "pygments_lexer": "ipython3",
   "version": "3.10.9"
  }
 },
 "nbformat": 4,
 "nbformat_minor": 5
}
