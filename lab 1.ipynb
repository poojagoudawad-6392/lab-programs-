{
 "cells": [
  {
   "cell_type": "code",
   "execution_count": 1,
   "id": "2ae397ed",
   "metadata": {},
   "outputs": [
    {
     "name": "stdout",
     "output_type": "stream",
     "text": [
      "Enter the student name: pooja G\n",
      "Enter the student USN: 2JI22CS060\n",
      "Enter the marks obtained in Physics: 86\n",
      "Enter the marks obtained in Chemistry: 95\n",
      "Enter the marks obtained in Mathematics: 75\n",
      "******************************\n",
      "Name of the Student: pooja G\n",
      "Student USN: 2JI22CS060\n",
      "******************************\n",
      "The total marks scored by the student in Physics 86 Chemistry 95 Mathematics 75 is 256\n",
      "******************************\n",
      "Percentage of the Student: 85\n"
     ]
    }
   ],
   "source": [
    "#(a) Develop a python program to read student details Name, USN and Marks in the three subjects.\n",
    "# Display the student details , total marks and percentage with suitable messages\n",
    "name = input(\"Enter the student name: \")\n",
    "usn = input(\"Enter the student USN: \")\n",
    "phy = int(input(\"Enter the marks obtained in Physics: \"))\n",
    "che = int(input(\"Enter the marks obtained in Chemistry: \"))\n",
    "mat = int(input(\"Enter the marks obtained in Mathematics: \"))\n",
    "max_marks = 300\n",
    "print(30 * \"*\")\n",
    "# Display the student details\n",
    "print(\"Name of the Student:\", name)\n",
    "print(\"Student USN:\", usn)\n",
    "print(30 * \"*\")\n",
    "# Calculate the total marks\n",
    "total = phy + che + mat\n",
    "print(\"The total marks scored by the student in Physics\", phy, \"Chemistry\", che, \"Mathematics\", mat, \"is\", total)\n",
    "print(30 * \"*\")\n",
    "# Calculate percentage\n",
    "percent = (total/max_marks) * 100\n",
    "print(\"Percentage of the Student:\", round(percent))"
   ]
  },
  {
   "cell_type": "code",
   "execution_count": 2,
   "id": "e5cbd528",
   "metadata": {},
   "outputs": [
    {
     "name": "stdout",
     "output_type": "stream",
     "text": [
      "Enter the name of the person: POOJA\n",
      "Enter the year of birth of the person: 2004\n",
      "POOJA is not a senior citizen\n"
     ]
    }
   ],
   "source": [
    "# (b) Develop a program to reas the name and year of birth of a person. Display whether the person is a senior citizen or not.\n",
    "import datetime\n",
    "name = input(\"Enter the name of the person: \")\n",
    "birth_year = int(input(\"Enter the year of birth of the person: \"))\n",
    "today = datetime.date.today()\n",
    "year = today.year\n",
    "age = year - birth_year\n",
    "if age >= 60:\n",
    "    print(name + \" is a senior citizen\")\n",
    "else:\n",
    "    print(name + \" is not a senior citizen\")"
   ]
  },
  {
   "cell_type": "code",
   "execution_count": null,
   "id": "7b2fb338",
   "metadata": {},
   "outputs": [],
   "source": []
  }
 ],
 "metadata": {
  "kernelspec": {
   "display_name": "Python 3 (ipykernel)",
   "language": "python",
   "name": "python3"
  },
  "language_info": {
   "codemirror_mode": {
    "name": "ipython",
    "version": 3
   },
   "file_extension": ".py",
   "mimetype": "text/x-python",
   "name": "python",
   "nbconvert_exporter": "python",
   "pygments_lexer": "ipython3",
   "version": "3.10.9"
  }
 },
 "nbformat": 4,
 "nbformat_minor": 5
}
