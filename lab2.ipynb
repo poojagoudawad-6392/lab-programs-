{
 "cells": [
  {
   "cell_type": "code",
   "execution_count": 2,
   "id": "e17f9119",
   "metadata": {},
   "outputs": [
    {
     "name": "stdout",
     "output_type": "stream",
     "text": [
      "Enter the value of n: 5\n",
      "0 1 1 2 3 "
     ]
    }
   ],
   "source": [
    "#a) Fibonacci using functions (recursive)\n",
    "n = int(input(\"Enter the value of n: \"))\n",
    "def fibonacci(n):\n",
    "    if n < 2:\n",
    "        return 1\n",
    "    return fibonacci(n-1) + fibonacci(n-2)\n",
    "\n",
    "print(0, end = ' ')\n",
    "for i in range(n - 1):\n",
    "    print(fibonacci(i), end = ' ')"
   ]
  },
  {
   "cell_type": "code",
   "execution_count": 4,
   "id": "702816e7",
   "metadata": {},
   "outputs": [
    {
     "name": "stdout",
     "output_type": "stream",
     "text": [
      "Enter the value of n: 5\n",
      "Enter the value of r: 4\n",
      "Factorial:  120\n",
      "Binomial Co-efficient:  5.0\n"
     ]
    }
   ],
   "source": [
    "n = int(input(\"Enter the value of n: \"))\n",
    "r = int(input(\"Enter the value of r: \"))\n",
    "\n",
    "# b) Finding factorial using functions (recursive)\n",
    "def fact(n):\n",
    "    if n == 0 or n == 1:\n",
    "        return 1\n",
    "    else:\n",
    "        return n * fact(n-1)\n",
    "\n",
    "n_minus_r = fact(n-r)\n",
    "r_fact = fact(r)\n",
    "\n",
    "print(\"Factorial: \", fact(n))\n",
    "print(\"Binomial Co-efficient: \", fact(n)/(n_minus_r*r_fact))"
   ]
  },
  {
   "cell_type": "code",
   "execution_count": null,
   "id": "2ae6b82e",
   "metadata": {},
   "outputs": [],
   "source": []
  }
 ],
 "metadata": {
  "kernelspec": {
   "display_name": "Python 3 (ipykernel)",
   "language": "python",
   "name": "python3"
  },
  "language_info": {
   "codemirror_mode": {
    "name": "ipython",
    "version": 3
   },
   "file_extension": ".py",
   "mimetype": "text/x-python",
   "name": "python",
   "nbconvert_exporter": "python",
   "pygments_lexer": "ipython3",
   "version": "3.10.9"
  }
 },
 "nbformat": 4,
 "nbformat_minor": 5
}
