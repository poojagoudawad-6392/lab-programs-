{
 "cells": [
  {
   "cell_type": "code",
   "execution_count": 1,
   "id": "3816ee10",
   "metadata": {},
   "outputs": [
    {
     "name": "stdout",
     "output_type": "stream",
     "text": [
      "Enter a multi digit number: 6526965854163\n",
      "Zero's =  0\n",
      "One's =  1\n",
      "Two's =  1\n",
      "Three's =  1\n",
      "Four's =  1\n",
      "Five's =  1\n",
      "Six's =  1\n",
      "Seven's =  1\n",
      "Eight's =  1\n",
      "Nine's =  1\n"
     ]
    }
   ],
   "source": [
    "# Main Program Method 1\n",
    "num = input(\"Enter a multi digit number: \")\n",
    "zeros = ones = twos = three = four = five = six = seven = eight = nine = 0\n",
    "for i in num:\n",
    "    if i == '0':\n",
    "        zeros = zeros + 1\n",
    "    if i == '1':\n",
    "        ones = ones + 1\n",
    "    if i == '2':\n",
    "        twos = twos + 1\n",
    "    if i == '3':\n",
    "        three = three + 1\n",
    "    if i == '3':\n",
    "        four = four + 1\n",
    "    if i == '3':\n",
    "        five = five + 1\n",
    "    if i == '3':\n",
    "        six = six + 1\n",
    "    if i == '3':\n",
    "        seven = seven + 1\n",
    "    if i == '3':\n",
    "        eight = eight + 1\n",
    "    if i == '3':\n",
    "        nine = nine + 1\n",
    "\n",
    "print(\"Zero's = \", zeros)\n",
    "print(\"One's = \", ones)\n",
    "print(\"Two's = \", twos)\n",
    "print(\"Three's = \", three)\n",
    "print(\"Four's = \", four)\n",
    "print(\"Five's = \", five)\n",
    "print(\"Six's = \", six)\n",
    "print(\"Seven's = \", seven)\n",
    "print(\"Eight's = \", eight)\n",
    "print(\"Nine's = \", nine)"
   ]
  },
  {
   "cell_type": "code",
   "execution_count": null,
   "id": "61abb259",
   "metadata": {},
   "outputs": [],
   "source": []
  }
 ],
 "metadata": {
  "kernelspec": {
   "display_name": "Python 3 (ipykernel)",
   "language": "python",
   "name": "python3"
  },
  "language_info": {
   "codemirror_mode": {
    "name": "ipython",
    "version": 3
   },
   "file_extension": ".py",
   "mimetype": "text/x-python",
   "name": "python",
   "nbconvert_exporter": "python",
   "pygments_lexer": "ipython3",
   "version": "3.10.9"
  }
 },
 "nbformat": 4,
 "nbformat_minor": 5
}
